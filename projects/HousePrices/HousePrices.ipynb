{
 "cells": [
  {
   "cell_type": "code",
   "execution_count": 7,
   "metadata": {},
   "outputs": [
    {
     "name": "stdout",
     "output_type": "stream",
     "text": [
      "(1460, 81)\n",
      "(1459, 80)\n"
     ]
    }
   ],
   "source": [
    "import pandas as pd\n",
    "\n",
    "train_file_path = './train.csv'\n",
    "test_file_path = './test.csv'\n",
    "\n",
    "train_data = pd.read_csv(train_file_path)\n",
    "test_data = pd.read_csv(test_file_path)\n",
    "\n",
    "print(train_data.shape)\n",
    "print(test_data.shape)"
   ]
  },
  {
   "cell_type": "code",
   "execution_count": 8,
   "metadata": {},
   "outputs": [],
   "source": [
    "y = train_data.SalePrice\n",
    "x_index = ['LotArea', 'YearBuilt', '1stFlrSF', '2ndFlrSF', 'FullBath','BedroomAbvGr','TotRmsAbvGrd']\n",
    "X = train_data[x_index]\n",
    "from sklearn.tree import DecisionTreeRegressor\n",
    "\n",
    "model = DecisionTreeRegressor()\n"
   ]
  },
  {
   "cell_type": "code",
   "execution_count": 10,
   "metadata": {},
   "outputs": [
    {
     "name": "stdout",
     "output_type": "stream",
     "text": [
      "   LotArea  YearBuilt  1stFlrSF  2ndFlrSF  FullBath  BedroomAbvGr  \\\n",
      "0     8450       2003       856       854         2             3   \n",
      "1     9600       1976      1262         0         2             3   \n",
      "2    11250       2001       920       866         2             3   \n",
      "3     9550       1915       961       756         1             3   \n",
      "4    14260       2000      1145      1053         2             4   \n",
      "\n",
      "   TotRmsAbvGrd  \n",
      "0             8  \n",
      "1             6  \n",
      "2             6  \n",
      "3             7  \n",
      "4             9  \n",
      "真实: 0       208500\n",
      "1       181500\n",
      "2       223500\n",
      "3       140000\n",
      "4       250000\n",
      "5       143000\n",
      "6       307000\n",
      "7       200000\n",
      "8       129900\n",
      "9       118000\n",
      "10      129500\n",
      "11      345000\n",
      "12      144000\n",
      "13      279500\n",
      "14      157000\n",
      "15      132000\n",
      "16      149000\n",
      "17       90000\n",
      "18      159000\n",
      "19      139000\n",
      "20      325300\n",
      "21      139400\n",
      "22      230000\n",
      "23      129900\n",
      "24      154000\n",
      "25      256300\n",
      "26      134800\n",
      "27      306000\n",
      "28      207500\n",
      "29       68500\n",
      "         ...  \n",
      "1430    192140\n",
      "1431    143750\n",
      "1432     64500\n",
      "1433    186500\n",
      "1434    160000\n",
      "1435    174000\n",
      "1436    120500\n",
      "1437    394617\n",
      "1438    149700\n",
      "1439    197000\n",
      "1440    191000\n",
      "1441    149300\n",
      "1442    310000\n",
      "1443    121000\n",
      "1444    179600\n",
      "1445    129000\n",
      "1446    157900\n",
      "1447    240000\n",
      "1448    112000\n",
      "1449     92000\n",
      "1450    136000\n",
      "1451    287090\n",
      "1452    145000\n",
      "1453     84500\n",
      "1454    185000\n",
      "1455    175000\n",
      "1456    210000\n",
      "1457    266500\n",
      "1458    142125\n",
      "1459    147500\n",
      "Name: SalePrice, Length: 1460, dtype: int64\n",
      "预测 [208500. 181500. 223500. 140000. 250000.]\n"
     ]
    }
   ],
   "source": [
    "model.fit(X,y)\n",
    "\n",
    "print(X.head())\n",
    "print(\"真实:\",y)\n",
    "print(\"预测\",model.predict(X.head()))"
   ]
  },
  {
   "cell_type": "code",
   "execution_count": null,
   "metadata": {},
   "outputs": [],
   "source": []
  },
  {
   "cell_type": "code",
   "execution_count": null,
   "metadata": {},
   "outputs": [],
   "source": []
  },
  {
   "cell_type": "code",
   "execution_count": null,
   "metadata": {},
   "outputs": [],
   "source": []
  },
  {
   "cell_type": "code",
   "execution_count": null,
   "metadata": {},
   "outputs": [],
   "source": []
  }
 ],
 "metadata": {
  "kernelspec": {
   "display_name": "Python 3",
   "language": "python",
   "name": "python3"
  },
  "language_info": {
   "codemirror_mode": {
    "name": "ipython",
    "version": 3
   },
   "file_extension": ".py",
   "mimetype": "text/x-python",
   "name": "python",
   "nbconvert_exporter": "python",
   "pygments_lexer": "ipython3",
   "version": "3.6.4"
  }
 },
 "nbformat": 4,
 "nbformat_minor": 2
}
