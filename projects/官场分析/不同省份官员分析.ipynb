{
 "cells": [
  {
   "cell_type": "code",
   "execution_count": 1,
   "metadata": {},
   "outputs": [
    {
     "name": "stdout",
     "output_type": "stream",
     "text": [
      "   省级政区代码 省级政区名称  地市级政区代码 地市级政区名称    年份 党委书记姓名  出生年份  出生月份  籍贯省份代码 籍贯省份名称  \\\n",
      "0  130000    河北省   130100    石家庄市  2000    陈来立   NaN   NaN     NaN    NaN   \n",
      "1  130000    河北省   130100    石家庄市  2001    吴振华   NaN   NaN     NaN    NaN   \n",
      "2  130000    河北省   130100    石家庄市  2002    吴振华   NaN   NaN     NaN    NaN   \n",
      "3  130000    河北省   130100    石家庄市  2003    吴振华   NaN   NaN     NaN    NaN   \n",
      "4  130000    河北省   130100    石家庄市  2004    吴振华   NaN   NaN     NaN    NaN   \n",
      "\n",
      "   ...    民族  教育 是否是党校教育（是=1，否=0） 专业：人文 专业：社科  专业：理工  专业：农科  专业：医科  入党年份  工作年份  \n",
      "0  ...   NaN  硕士              1.0   NaN   NaN    NaN    NaN    NaN   NaN   NaN  \n",
      "1  ...   NaN  本科              0.0   0.0   0.0    1.0    0.0    0.0   NaN   NaN  \n",
      "2  ...   NaN  本科              0.0   0.0   0.0    1.0    0.0    0.0   NaN   NaN  \n",
      "3  ...   NaN  本科              0.0   0.0   0.0    1.0    0.0    0.0   NaN   NaN  \n",
      "4  ...   NaN  本科              0.0   0.0   0.0    1.0    0.0    0.0   NaN   NaN  \n",
      "\n",
      "[5 rows x 23 columns]\n"
     ]
    }
   ],
   "source": [
    "import numpy as np\n",
    "import matplotlib.pyplot as plt\n",
    "import pandas as pd\n",
    "\n",
    "data = pd.read_csv(\"data/地市级党委书记数据库（2000-10）.csv\")\n",
    "print(data.head())"
   ]
  },
  {
   "cell_type": "code",
   "execution_count": 2,
   "metadata": {},
   "outputs": [
    {
     "name": "stdout",
     "output_type": "stream",
     "text": [
      "  党委书记姓名    年份  教育\n",
      "0    陈来立  2000  硕士\n",
      "1    吴振华  2001  本科\n",
      "2    吴振华  2002  本科\n",
      "3    吴振华  2003  本科\n",
      "4    吴振华  2004  本科\n"
     ]
    }
   ],
   "source": [
    "print(data[['党委书记姓名','年份','教育']].head())"
   ]
  },
  {
   "cell_type": "code",
   "execution_count": 3,
   "metadata": {},
   "outputs": [],
   "source": [
    "filed = data.columns.tolist()"
   ]
  },
  {
   "cell_type": "code",
   "execution_count": 4,
   "metadata": {},
   "outputs": [
    {
     "name": "stdout",
     "output_type": "stream",
     "text": [
      "              省级政区代码        地市级政区代码           年份         出生年份         出生月份  \\\n",
      "count    3663.000000    3663.000000  3663.000000  2676.000000  2645.000000   \n",
      "mean   403393.393393  404456.756757  2005.000000  1953.622571     6.790548   \n",
      "std    148176.721620  148485.810327     3.162709     4.416316     3.614664   \n",
      "min    130000.000000  130100.000000  2000.000000  1941.000000     1.000000   \n",
      "25%    330000.000000  330100.000000  2002.000000  1951.000000     3.000000   \n",
      "50%    420000.000000  420200.000000  2005.000000  1954.000000     7.000000   \n",
      "75%    510000.000000  513400.000000  2008.000000  1956.000000    10.000000   \n",
      "max    650000.000000  654300.000000  2010.000000  1966.000000    14.000000   \n",
      "\n",
      "              籍贯省份代码         籍贯地市代码  是否是党校教育（是=1，否=0）        专业：人文  \\\n",
      "count    2624.000000    2615.000000       2493.000000  2370.000000   \n",
      "mean   364428.353659  365742.332696          0.430405     0.275527   \n",
      "std    126267.485520  125961.993399          0.576136     0.446874   \n",
      "min    110000.000000  120000.000000          0.000000     0.000000   \n",
      "25%    320000.000000  320700.000000          0.000000     0.000000   \n",
      "50%    370000.000000  370700.000000          0.000000     0.000000   \n",
      "75%    430000.000000  431300.000000          1.000000     1.000000   \n",
      "max    640000.000000  640500.000000          9.000000     1.000000   \n",
      "\n",
      "             专业：社科        专业：理工        专业：农科        专业：医科         入党年份  \\\n",
      "count  2376.000000  2371.000000  2369.000000  2370.000000  2384.000000   \n",
      "mean      0.627525     0.256854     0.067539     0.009705  1976.906879   \n",
      "std       0.483566     0.436990     0.251006     0.098054     5.310080   \n",
      "min       0.000000     0.000000     0.000000     0.000000  1961.000000   \n",
      "25%       0.000000     0.000000     0.000000     0.000000  1973.000000   \n",
      "50%       1.000000     0.000000     0.000000     0.000000  1976.000000   \n",
      "75%       1.000000     1.000000     0.000000     0.000000  1981.000000   \n",
      "max       1.000000     1.000000     1.000000     1.000000  1994.000000   \n",
      "\n",
      "              工作年份  \n",
      "count  2568.000000  \n",
      "mean   1973.129673  \n",
      "std       4.856564  \n",
      "min    1958.000000  \n",
      "25%    1970.000000  \n",
      "50%    1972.500000  \n",
      "75%    1976.000000  \n",
      "max    1990.000000  \n"
     ]
    }
   ],
   "source": [
    "print(data.describe())"
   ]
  },
  {
   "cell_type": "code",
   "execution_count": 5,
   "metadata": {},
   "outputs": [
    {
     "name": "stdout",
     "output_type": "stream",
     "text": [
      "       省级政区名称 地市级政区名称 党委书记姓名 籍贯省份名称 籍贯地市名称    性别    民族    教育\n",
      "count    3663    3663   3021   2624   2615  2708  2517  2550\n",
      "unique     27     333    901     29    240     2     2     7\n",
      "top       广东省     盐城市    焉荣竹    山东省    威海市     男    汉族    硕士\n",
      "freq      231      11     11    313     58  2633  2351  1381\n"
     ]
    }
   ],
   "source": [
    "print(data.describe(include=[np.object]))"
   ]
  },
  {
   "cell_type": "code",
   "execution_count": 6,
   "metadata": {},
   "outputs": [
    {
     "name": "stdout",
     "output_type": "stream",
     "text": [
      "总共数据: 2708\n",
      "女性比例:2.77%\n",
      "男性比例:97.23%\n"
     ]
    }
   ],
   "source": [
    "data_gender = data['性别']\n",
    "data_gender = data_gender[data_gender.notnull()]\n",
    "count_a = len(data_gender)\n",
    "count_m = len(data_gender[data_gender == '男'])\n",
    "count_w = len(data_gender[data_gender == '女'])\n",
    "print(\"总共数据:\",count_a)\n",
    "print(\"女性比例:%.2f%%\" % (count_w/count_a*100))\n",
    "print(\"男性比例:%.2f%%\" % (count_m/count_a*100))"
   ]
  },
  {
   "cell_type": "code",
   "execution_count": 7,
   "metadata": {},
   "outputs": [],
   "source": [
    "convence_gender = data[['省级政区名称','性别']]"
   ]
  },
  {
   "cell_type": "code",
   "execution_count": 8,
   "metadata": {},
   "outputs": [],
   "source": [
    "convence_gender = convence_gender[convence_gender['性别'].notnull()]"
   ]
  },
  {
   "cell_type": "code",
   "execution_count": 9,
   "metadata": {},
   "outputs": [
    {
     "name": "stdout",
     "output_type": "stream",
     "text": [
      "性别       女    男\n",
      "省级政区名称         \n",
      "云南省      2   73\n",
      "内蒙古自治区   0   86\n",
      "吉林省      4   72\n",
      "四川省      8  155\n",
      "宁夏回族自治区  0   49\n"
     ]
    }
   ],
   "source": [
    "pt = pd.crosstab(convence_gender['省级政区名称'],convence_gender['性别'])\n",
    "print(pt.head())"
   ]
  },
  {
   "cell_type": "code",
   "execution_count": 10,
   "metadata": {},
   "outputs": [
    {
     "name": "stdout",
     "output_type": "stream",
     "text": [
      "性别       女    男  all      女性比例      男性比例\n",
      "省级政区名称                                  \n",
      "云南省      2   73   75  0.026667  0.973333\n",
      "内蒙古自治区   0   86   86  0.000000  1.000000\n",
      "吉林省      4   72   76  0.052632  0.947368\n",
      "四川省      8  155  163  0.049080  0.950920\n",
      "宁夏回族自治区  0   49   49  0.000000  1.000000\n"
     ]
    }
   ],
   "source": [
    "pt['all'] = pt['女']+pt['男']\n",
    "pt['女性比例'] = pt['女']/pt['all']\n",
    "pt['男性比例'] = pt['男']/pt['all']\n",
    "print(pt.head())"
   ]
  },
  {
   "cell_type": "code",
   "execution_count": 11,
   "metadata": {},
   "outputs": [
    {
     "name": "stdout",
     "output_type": "stream",
     "text": [
      "性别       女    男  all      女性比例      男性比例\n",
      "省级政区名称                                  \n",
      "辽宁省     13  121  134  0.097015  0.902985\n",
      "陕西省      9   93  102  0.088235  0.911765\n",
      "吉林省      4   72   76  0.052632  0.947368\n",
      "山西省      6  112  118  0.050847  0.949153\n",
      "四川省      8  155  163  0.049080  0.950920\n",
      "安徽省      7  167  174  0.040230  0.959770\n",
      "江西省      4  113  117  0.034188  0.965812\n",
      "山东省      6  178  184  0.032609  0.967391\n",
      "福建省      3   96   99  0.030303  0.969697\n",
      "云南省      2   73   75  0.026667  0.973333\n"
     ]
    }
   ],
   "source": [
    "pt2 = pt.sort_values(by = ['女性比例'],ascending=False)\n",
    "print(pt2.head(10))"
   ]
  },
  {
   "cell_type": "code",
   "execution_count": 14,
   "metadata": {},
   "outputs": [
    {
     "data": {
      "image/png": "[encoded data removed]",
      "text/plain": [
       "<matplotlib.figure.Figure at 0x7ff78a8dedd8>"
      ]
     },
     "metadata": {},
     "output_type": "display_data"
    }
   ],
   "source": [
    "fig = plt.figure(figsize=(8,4))\n",
    "plt.title('不同省份女性占的比例')\n",
    "plt.xlabel('provence')\n",
    "plt.ylabel('woman rate')\n",
    "index = pt2.index[:10]\n",
    "plt.bar(range(10),pt2['女性比例'][:10],tick_label= index)\n",
    "plt.show()"
   ]
  },
  {
   "cell_type": "code",
   "execution_count": 16,
   "metadata": {},
   "outputs": [
    {
     "data": {
      "image/png": "[encoded data removed]",
      "text/plain": [
       "<matplotlib.figure.Figure at 0x7ff7867aa0b8>"
      ]
     },
     "metadata": {},
     "output_type": "display_data"
    }
   ],
   "source": [
    "plt.boxplot(pt2['女性比例'],vert=True,showmeans=True)\n",
    "plt.xticks([])\n",
    "plt.ylabel('女性比例')\n",
    "plt.show()"
   ]
  },
  {
   "cell_type": "code",
   "execution_count": null,
   "metadata": {},
   "outputs": [],
   "source": []
  },
  {
   "cell_type": "code",
   "execution_count": null,
   "metadata": {},
   "outputs": [],
   "source": []
  },
  {
   "cell_type": "code",
   "execution_count": 13,
   "metadata": {},
   "outputs": [
    {
     "name": "stdout",
     "output_type": "stream",
     "text": [
      "/home/plf/anaconda3/lib/python3.6/site-packages/matplotlib/mpl-data/matplotlibrc\n"
     ]
    }
   ],
   "source": []
  },
  {
   "cell_type": "code",
   "execution_count": null,
   "metadata": {},
   "outputs": [],
   "source": []
  },
  {
   "cell_type": "code",
   "execution_count": null,
   "metadata": {},
   "outputs": [],
   "source": []
  },
  {
   "cell_type": "code",
   "execution_count": null,
   "metadata": {},
   "outputs": [],
   "source": []
  },
  {
   "cell_type": "code",
   "execution_count": null,
   "metadata": {},
   "outputs": [],
   "source": []
  },
  {
   "cell_type": "code",
   "execution_count": null,
   "metadata": {},
   "outputs": [],
   "source": []
  },
  {
   "cell_type": "code",
   "execution_count": null,
   "metadata": {},
   "outputs": [],
   "source": []
  },
  {
   "cell_type": "code",
   "execution_count": null,
   "metadata": {},
   "outputs": [],
   "source": []
  },
  {
   "cell_type": "code",
   "execution_count": null,
   "metadata": {},
   "outputs": [],
   "source": []
  },
  {
   "cell_type": "code",
   "execution_count": null,
   "metadata": {},
   "outputs": [],
   "source": []
  },
  {
   "cell_type": "code",
   "execution_count": null,
   "metadata": {},
   "outputs": [],
   "source": []
  }
 ],
 "metadata": {
  "kernelspec": {
   "display_name": "Python 3",
   "language": "python",
   "name": "python3"
  },
  "language_info": {
   "codemirror_mode": {
    "name": "ipython",
    "version": 3
   },
   "file_extension": ".py",
   "mimetype": "text/x-python",
   "name": "python",
   "nbconvert_exporter": "python",
   "pygments_lexer": "ipython3",
   "version": "3.6.4"
  }
 },
 "nbformat": 4,
 "nbformat_minor": 2
}
