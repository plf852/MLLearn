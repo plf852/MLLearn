{
 "cells": [
  {
   "cell_type": "code",
   "execution_count": 1,
   "metadata": {},
   "outputs": [
    {
     "name": "stdout",
     "output_type": "stream",
     "text": [
      "(13580, 21)\n",
      "Index(['Suburb', 'Address', 'Rooms', 'Type', 'Price', 'Method', 'SellerG',\n",
      "       'Date', 'Distance', 'Postcode', 'Bedroom2', 'Bathroom', 'Car',\n",
      "       'Landsize', 'BuildingArea', 'YearBuilt', 'CouncilArea', 'Lattitude',\n",
      "       'Longtitude', 'Regionname', 'Propertycount'],\n",
      "      dtype='object')\n"
     ]
    }
   ],
   "source": [
    "import pandas as pd\n",
    "import numpy as np\n",
    "\n",
    "data = pd.read_csv('melb_data.csv')\n",
    "print(data.shape)\n",
    "print(data.columns)"
   ]
  },
  {
   "cell_type": "code",
   "execution_count": 14,
   "metadata": {},
   "outputs": [],
   "source": [
    "def score_dataSet(train_x,test_x,train_y,test_y):\n",
    "    from sklearn.ensemble import RandomForestRegressor\n",
    "    rfr = RandomForestRegressor()\n",
    "    rfr.fit(train_x,train_y)\n",
    "    print('模型拟合完成')\n",
    "    from sklearn.metrics import mean_absolute_error\n",
    "    print(mean_absolute_error(test_y,rfr.predict(test_x)))"
   ]
  },
  {
   "cell_type": "code",
   "execution_count": 11,
   "metadata": {},
   "outputs": [],
   "source": [
    "y = data.Price\n",
    "x = data.drop(['Price'],axis=1)"
   ]
  },
  {
   "cell_type": "markdown",
   "metadata": {},
   "source": [
    "# 丢掉数据\n",
    "## 先丢掉数据再进行数据划分"
   ]
  },
  {
   "cell_type": "code",
   "execution_count": 26,
   "metadata": {},
   "outputs": [
    {
     "name": "stdout",
     "output_type": "stream",
     "text": [
      "(13580, 9)\n",
      "模型拟合完成\n",
      "189661.9399700774\n"
     ]
    }
   ],
   "source": [
    "data_without_missing = x.dropna(axis=1)\n",
    "num_data_without_missing = data_without_missing.select_dtypes(exclude=['object'])\n",
    "print(num_data_without_missing.shape)\n",
    "from sklearn.model_selection import train_test_split\n",
    "train_x,test_x,train_y,test_y = train_test_split(num_data_without_missing,y,train_size=0.7,test_size=0.3, random_state=0)\n",
    "score_dataSet(train_x,test_x,train_y,test_y)"
   ]
  },
  {
   "cell_type": "markdown",
   "metadata": {},
   "source": [
    "## 先进行数据划分，再丢掉空数据"
   ]
  },
  {
   "cell_type": "code",
   "execution_count": 24,
   "metadata": {},
   "outputs": [
    {
     "name": "stdout",
     "output_type": "stream",
     "text": [
      "['Car', 'BuildingArea', 'YearBuilt']\n",
      "(13580, 12)\n",
      "模型拟合完成\n",
      "189679.82756738435\n"
     ]
    }
   ],
   "source": [
    "num_data_without_missing = x.select_dtypes(exclude=['object'])\n",
    "col_with_missing = [t for t in num_data_without_missing.columns if num_data_without_missing[t].isnull().any()] # 对num_data_without_missing[t]列的每个数据进行isnull判断，但会一些列Ture/False\n",
    "print(col_with_missing)\n",
    "print(num_data_without_missing.shape)\n",
    "from sklearn.model_selection import train_test_split\n",
    "train_x,test_x,train_y,test_y = train_test_split(num_data_without_missing,y,train_size=0.7,test_size=0.3, random_state=0)\n",
    "train_x = train_x.drop(col_with_missing,axis=1)\n",
    "test_x  = test_x.drop(col_with_missing,axis=1)\n",
    "score_dataSet(train_x,test_x,train_y,test_y)"
   ]
  },
  {
   "cell_type": "markdown",
   "metadata": {},
   "source": [
    "## 结论\n",
    "上述两个方案，由于存在随机划分数据的因素，所以求得的数据不完全相同，但是最后误差大致上都相同，跟期望相符\n"
   ]
  },
  {
   "cell_type": "markdown",
   "metadata": {},
   "source": [
    "# 进行数据填充"
   ]
  },
  {
   "cell_type": "code",
   "execution_count": 33,
   "metadata": {},
   "outputs": [],
   "source": [
    "from sklearn.preprocessing import Imputer\n",
    "im = Imputer()\n",
    "num_data = x.select_dtypes(exclude=['object'])"
   ]
  },
  {
   "cell_type": "markdown",
   "metadata": {},
   "source": [
    "## 直接进行填充"
   ]
  },
  {
   "cell_type": "code",
   "execution_count": 34,
   "metadata": {},
   "outputs": [
    {
     "name": "stdout",
     "output_type": "stream",
     "text": [
      "模型拟合完成\n",
      "182739.37931715642\n"
     ]
    }
   ],
   "source": [
    "x_imputer = im.fit_transform(num_data)\n",
    "from sklearn.model_selection import train_test_split\n",
    "train_x,test_x,train_y,test_y = train_test_split(x_imputer,y,train_size=0.7,test_size=0.3, random_state=0)\n",
    "score_dataSet(train_x,test_x,train_y,test_y)"
   ]
  },
  {
   "cell_type": "markdown",
   "metadata": {},
   "source": [
    "## 数据先复制，再对为空的数据，新建列，再对新列进行数据填充"
   ]
  },
  {
   "cell_type": "code",
   "execution_count": 38,
   "metadata": {},
   "outputs": [
    {
     "name": "stdout",
     "output_type": "stream",
     "text": [
      "填充前: (13580, 12)\n",
      "填充后: (13580, 15)\n",
      "模型拟合完成\n",
      "182816.76692848958\n"
     ]
    }
   ],
   "source": [
    "new_num_data = num_data.copy()\n",
    "print('填充前:',new_num_data.shape)\n",
    "cols_with_missing = (col for col in new_num_data.columns \n",
    "                                 if new_num_data[col].isnull().any())\n",
    "for col in cols_with_missing:\n",
    "    new_num_data[col + '_was_missing'] = new_num_data[col].isnull()\n",
    "\n",
    "# Imputation\n",
    "imputed_new_num_data = im.fit_transform(new_num_data)\n",
    "print('填充后:',imputed_new_num_data.shape)\n",
    "from sklearn.model_selection import train_test_split\n",
    "train_x,test_x,train_y,test_y = train_test_split(imputed_new_num_data,y,train_size=0.7,test_size=0.3, random_state=0)\n",
    "score_dataSet(train_x,test_x,train_y,test_y)"
   ]
  },
  {
   "cell_type": "markdown",
   "metadata": {},
   "source": [
    "## 结论\n",
    "上面的两种填充方法误差是相差不多的。但是仅在这个数据集上，在研究其它问题中，第二种方法往往效果好一点"
   ]
  },
  {
   "cell_type": "markdown",
   "metadata": {},
   "source": [
    "## 注意事项\n",
    "### what\n",
    "对比作者给出的代码\n",
    "发现，作者是先将数据分割，然后在对train，test分别进行填充。而且，针对两种数据集的填充方式不同\n",
    "\n",
    "imputed_X_train_plus = my_imputer.fit_transform(imputed_X_train_plus)  #使用fit_transform 函数\n",
    "\n",
    "imputed_X_test_plus = my_imputer.transform(imputed_X_test_plus)  #使用transform函数\n",
    "\n",
    "二者的功能都是对数据进行某种统一处理（比如标准化~N(0,1)，将数据缩放(映射)到某个固定区间，归一化，正则化等） fit_transform(partData)对部分数据先拟合fit，找到该part的整体指标，如均值、方差、最大值最小值等等（根据具体转换的目的），然后对该partData进行转换transform，从而实现数据的标准化、归一化等等\n",
    "\n",
    "根据对之前部分fit的整体指标，对剩余的数据（restData）使用同样的均值、方差、最大最小值等指标进行转换transform(restData)，从而保证part、rest处理方式相同。 必须先用fit_transform(partData)，之后再transform(restData) 如果直接transform(partData)，程序会报错 如果fit_transfrom(partData)后，使用fit_transform(restData)而不用transform(restData)，虽然也能归一化，但是两个结果不是在同一个“标准”下的，具有明显差异。\n",
    "\n",
    "### 结论\n",
    "fit_transfrom(train_data)\n",
    "\n",
    "transfrom(test_data) #保证训练集和测试集在同一标准下\n",
    "\n",
    "而不能使用\n",
    "fit_transfrom(train_data)\n",
    "\n",
    "fit_transfrom(test_data)\n",
    "\n",
    "如果使用下面方法，效果会更好\n",
    "\n",
    "在数据划分前\n",
    "先fit_transform(x)\n",
    "划分后\n",
    "transform(train_x)\n",
    "transform(test_x)"
   ]
  },
  {
   "cell_type": "code",
   "execution_count": 45,
   "metadata": {},
   "outputs": [
    {
     "name": "stdout",
     "output_type": "stream",
     "text": [
      "[[0. 0. 1. 1.]\n",
      " [1. 1. 0. 0.]]\n",
      "[[-0.5        -0.05        0.25        0.44444444]\n",
      " [ 4.          1.          0.          0.88888889]]\n",
      "[[0. 0. 1. 0.]\n",
      " [1. 1. 0. 1.]]\n"
     ]
    }
   ],
   "source": [
    "from sklearn.preprocessing import MinMaxScaler\n",
    "mms = MinMaxScaler(feature_range=(0,1))\n",
    "train = [[10,100,10,1],[20,500,2,0.1]]\n",
    "test = [[5,80,4,0.5],[50,500,2,0.9]]\n",
    "print(mms.fit_transform(train))\n",
    "print(mms.transform(test))\n",
    "print(mms.fit_transform(test)) # 可以使用MinMaxScaler 看出fit_transform和transform的差别\n"
   ]
  },
  {
   "cell_type": "code",
   "execution_count": null,
   "metadata": {},
   "outputs": [],
   "source": []
  }
 ],
 "metadata": {
  "kernelspec": {
   "display_name": "Python 3",
   "language": "python",
   "name": "python3"
  },
  "language_info": {
   "codemirror_mode": {
    "name": "ipython",
    "version": 3
   },
   "file_extension": ".py",
   "mimetype": "text/x-python",
   "name": "python",
   "nbconvert_exporter": "python",
   "pygments_lexer": "ipython3",
   "version": "3.6.4"
  }
 },
 "nbformat": 4,
 "nbformat_minor": 2
}
