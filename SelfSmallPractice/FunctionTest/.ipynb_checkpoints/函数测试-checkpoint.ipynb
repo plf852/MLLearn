{
 "cells": [
  {
   "cell_type": "code",
   "execution_count": 1,
   "metadata": {},
   "outputs": [
    {
     "name": "stdout",
     "output_type": "stream",
     "text": [
      "       Suburb           Address  Rooms Type      Price Method SellerG  \\\n",
      "0  Abbotsford      85 Turner St      2    h  1480000.0      S  Biggin   \n",
      "1  Abbotsford   25 Bloomburg St      2    h  1035000.0      S  Biggin   \n",
      "2  Abbotsford      5 Charles St      3    h  1465000.0     SP  Biggin   \n",
      "3  Abbotsford  40 Federation La      3    h   850000.0     PI  Biggin   \n",
      "4  Abbotsford       55a Park St      4    h  1600000.0     VB  Nelson   \n",
      "\n",
      "        Date  Distance  Postcode      ...       Bathroom  Car  Landsize  \\\n",
      "0  3/12/2016       2.5    3067.0      ...            1.0  1.0     202.0   \n",
      "1  4/02/2016       2.5    3067.0      ...            1.0  0.0     156.0   \n",
      "2  4/03/2017       2.5    3067.0      ...            2.0  0.0     134.0   \n",
      "3  4/03/2017       2.5    3067.0      ...            2.0  1.0      94.0   \n",
      "4  4/06/2016       2.5    3067.0      ...            1.0  2.0     120.0   \n",
      "\n",
      "   BuildingArea  YearBuilt  CouncilArea Lattitude  Longtitude  \\\n",
      "0           NaN        NaN        Yarra  -37.7996    144.9984   \n",
      "1          79.0     1900.0        Yarra  -37.8079    144.9934   \n",
      "2         150.0     1900.0        Yarra  -37.8093    144.9944   \n",
      "3           NaN        NaN        Yarra  -37.7969    144.9969   \n",
      "4         142.0     2014.0        Yarra  -37.8072    144.9941   \n",
      "\n",
      "              Regionname Propertycount  \n",
      "0  Northern Metropolitan        4019.0  \n",
      "1  Northern Metropolitan        4019.0  \n",
      "2  Northern Metropolitan        4019.0  \n",
      "3  Northern Metropolitan        4019.0  \n",
      "4  Northern Metropolitan        4019.0  \n",
      "\n",
      "[5 rows x 21 columns]\n"
     ]
    }
   ],
   "source": [
    "import pandas as pd\n",
    "data = pd.read_csv('./melb_data.csv')\n",
    "print(data.head())"
   ]
  },
  {
   "cell_type": "code",
   "execution_count": 3,
   "metadata": {},
   "outputs": [
    {
     "name": "stdout",
     "output_type": "stream",
     "text": [
      "['Car', 'BuildingArea', 'YearBuilt', 'CouncilArea']\n"
     ]
    }
   ],
   "source": [
    "print([t for t in data.columns if data[t].isnull().any()])"
   ]
  },
  {
   "cell_type": "code",
   "execution_count": 4,
   "metadata": {},
   "outputs": [
    {
     "name": "stdout",
     "output_type": "stream",
     "text": [
      "              Rooms         Price      Distance      Postcode      Bedroom2  \\\n",
      "count  13580.000000  1.358000e+04  13580.000000  13580.000000  13580.000000   \n",
      "mean       2.937997  1.075684e+06     10.137776   3105.301915      2.914728   \n",
      "std        0.955748  6.393107e+05      5.868725     90.676964      0.965921   \n",
      "min        1.000000  8.500000e+04      0.000000   3000.000000      0.000000   \n",
      "25%        2.000000  6.500000e+05      6.100000   3044.000000      2.000000   \n",
      "50%        3.000000  9.030000e+05      9.200000   3084.000000      3.000000   \n",
      "75%        3.000000  1.330000e+06     13.000000   3148.000000      3.000000   \n",
      "max       10.000000  9.000000e+06     48.100000   3977.000000     20.000000   \n",
      "\n",
      "           Bathroom           Car       Landsize  BuildingArea    YearBuilt  \\\n",
      "count  13580.000000  13518.000000   13580.000000   7130.000000  8205.000000   \n",
      "mean       1.534242      1.610075     558.416127    151.967650  1964.684217   \n",
      "std        0.691712      0.962634    3990.669241    541.014538    37.273762   \n",
      "min        0.000000      0.000000       0.000000      0.000000  1196.000000   \n",
      "25%        1.000000      1.000000     177.000000     93.000000  1940.000000   \n",
      "50%        1.000000      2.000000     440.000000    126.000000  1970.000000   \n",
      "75%        2.000000      2.000000     651.000000    174.000000  1999.000000   \n",
      "max        8.000000     10.000000  433014.000000  44515.000000  2018.000000   \n",
      "\n",
      "          Lattitude    Longtitude  Propertycount  \n",
      "count  13580.000000  13580.000000   13580.000000  \n",
      "mean     -37.809203    144.995216    7454.417378  \n",
      "std        0.079260      0.103916    4378.581772  \n",
      "min      -38.182550    144.431810     249.000000  \n",
      "25%      -37.856822    144.929600    4380.000000  \n",
      "50%      -37.802355    145.000100    6555.000000  \n",
      "75%      -37.756400    145.058305   10331.000000  \n",
      "max      -37.408530    145.526350   21650.000000  \n"
     ]
    }
   ],
   "source": [
    "print(data.describe())"
   ]
  },
  {
   "cell_type": "code",
   "execution_count": null,
   "metadata": {},
   "outputs": [],
   "source": []
  }
 ],
 "metadata": {
  "kernelspec": {
   "display_name": "Python 3",
   "language": "python",
   "name": "python3"
  },
  "language_info": {
   "codemirror_mode": {
    "name": "ipython",
    "version": 3
   },
   "file_extension": ".py",
   "mimetype": "text/x-python",
   "name": "python",
   "nbconvert_exporter": "python",
   "pygments_lexer": "ipython3",
   "version": "3.6.4"
  }
 },
 "nbformat": 4,
 "nbformat_minor": 1
}
